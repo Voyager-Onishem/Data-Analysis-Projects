{
 "cells": [
  {
   "cell_type": "code",
   "execution_count": 1,
   "id": "cde62653",
   "metadata": {},
   "outputs": [],
   "source": [
    "import yfinance as yf\n",
    "import pandas as pd\n",
    "import numpy as np\n",
    "import datetime as dt\n",
    "from pandas_datareader import data as pdr\n",
    "import os"
   ]
  },
  {
   "cell_type": "code",
   "execution_count": 13,
   "id": "fdd1df01",
   "metadata": {},
   "outputs": [
    {
     "data": {
      "text/plain": [
       "(datetime.datetime(2025, 9, 30, 13, 59, 56, 957071),\n",
       " datetime.datetime(2020, 10, 1, 13, 59, 56, 957071))"
      ]
     },
     "execution_count": 13,
     "metadata": {},
     "output_type": "execute_result"
    }
   ],
   "source": [
    "endDate = dt.datetime.now()\n",
    "\n",
    "startDate = endDate - dt.timedelta(days = 365*5)\n",
    "endDate, startDate"
   ]
  },
  {
   "cell_type": "code",
   "execution_count": 14,
   "id": "acd4c761",
   "metadata": {},
   "outputs": [],
   "source": [
    "stocks = ['spy','intc']"
   ]
  },
  {
   "cell_type": "code",
   "execution_count": 15,
   "id": "251f74db",
   "metadata": {},
   "outputs": [
    {
     "name": "stderr",
     "output_type": "stream",
     "text": [
      "[*********************100%***********************]  2 of 2 completed\n",
      "[*********************100%***********************]  2 of 2 completed\n"
     ]
    }
   ],
   "source": [
    "# for stock in stocks:\n",
    "df = yf.download(stocks, start = startDate, end = endDate,auto_adjust=False)"
   ]
  },
  {
   "cell_type": "code",
   "execution_count": 17,
   "id": "be9a96a5",
   "metadata": {},
   "outputs": [
    {
     "data": {
      "text/html": [
       "<div>\n",
       "<style scoped>\n",
       "    .dataframe tbody tr th:only-of-type {\n",
       "        vertical-align: middle;\n",
       "    }\n",
       "\n",
       "    .dataframe tbody tr th {\n",
       "        vertical-align: top;\n",
       "    }\n",
       "\n",
       "    .dataframe thead tr th {\n",
       "        text-align: left;\n",
       "    }\n",
       "\n",
       "    .dataframe thead tr:last-of-type th {\n",
       "        text-align: right;\n",
       "    }\n",
       "</style>\n",
       "<table border=\"1\" class=\"dataframe\">\n",
       "  <thead>\n",
       "    <tr>\n",
       "      <th>Price</th>\n",
       "      <th colspan=\"2\" halign=\"left\">Adj Close</th>\n",
       "      <th colspan=\"2\" halign=\"left\">Close</th>\n",
       "      <th colspan=\"2\" halign=\"left\">High</th>\n",
       "      <th colspan=\"2\" halign=\"left\">Low</th>\n",
       "      <th colspan=\"2\" halign=\"left\">Open</th>\n",
       "      <th colspan=\"2\" halign=\"left\">Volume</th>\n",
       "    </tr>\n",
       "    <tr>\n",
       "      <th>Ticker</th>\n",
       "      <th>INTC</th>\n",
       "      <th>SPY</th>\n",
       "      <th>INTC</th>\n",
       "      <th>SPY</th>\n",
       "      <th>INTC</th>\n",
       "      <th>SPY</th>\n",
       "      <th>INTC</th>\n",
       "      <th>SPY</th>\n",
       "      <th>INTC</th>\n",
       "      <th>SPY</th>\n",
       "      <th>INTC</th>\n",
       "      <th>SPY</th>\n",
       "    </tr>\n",
       "    <tr>\n",
       "      <th>Date</th>\n",
       "      <th></th>\n",
       "      <th></th>\n",
       "      <th></th>\n",
       "      <th></th>\n",
       "      <th></th>\n",
       "      <th></th>\n",
       "      <th></th>\n",
       "      <th></th>\n",
       "      <th></th>\n",
       "      <th></th>\n",
       "      <th></th>\n",
       "      <th></th>\n",
       "    </tr>\n",
       "  </thead>\n",
       "  <tbody>\n",
       "    <tr>\n",
       "      <th>2020-10-01</th>\n",
       "      <td>46.885262</td>\n",
       "      <td>314.209167</td>\n",
       "      <td>52.240002</td>\n",
       "      <td>337.040009</td>\n",
       "      <td>52.720001</td>\n",
       "      <td>338.739990</td>\n",
       "      <td>51.990002</td>\n",
       "      <td>335.010010</td>\n",
       "      <td>52.400002</td>\n",
       "      <td>337.690002</td>\n",
       "      <td>22127600</td>\n",
       "      <td>88698700</td>\n",
       "    </tr>\n",
       "    <tr>\n",
       "      <th>2020-10-02</th>\n",
       "      <td>45.781349</td>\n",
       "      <td>311.225983</td>\n",
       "      <td>51.009998</td>\n",
       "      <td>333.839996</td>\n",
       "      <td>51.980000</td>\n",
       "      <td>337.010010</td>\n",
       "      <td>50.990002</td>\n",
       "      <td>331.190002</td>\n",
       "      <td>51.500000</td>\n",
       "      <td>331.700012</td>\n",
       "      <td>25811800</td>\n",
       "      <td>89431100</td>\n",
       "    </tr>\n",
       "    <tr>\n",
       "      <th>2020-10-05</th>\n",
       "      <td>46.391636</td>\n",
       "      <td>316.744904</td>\n",
       "      <td>51.689999</td>\n",
       "      <td>339.760010</td>\n",
       "      <td>51.810001</td>\n",
       "      <td>339.959991</td>\n",
       "      <td>51.270000</td>\n",
       "      <td>336.010010</td>\n",
       "      <td>51.299999</td>\n",
       "      <td>336.059998</td>\n",
       "      <td>20883200</td>\n",
       "      <td>45713100</td>\n",
       "    </tr>\n",
       "    <tr>\n",
       "      <th>2020-10-06</th>\n",
       "      <td>46.104439</td>\n",
       "      <td>312.242096</td>\n",
       "      <td>51.369999</td>\n",
       "      <td>334.929993</td>\n",
       "      <td>52.700001</td>\n",
       "      <td>342.170013</td>\n",
       "      <td>51.230000</td>\n",
       "      <td>334.380005</td>\n",
       "      <td>51.709999</td>\n",
       "      <td>339.910004</td>\n",
       "      <td>25642800</td>\n",
       "      <td>90128900</td>\n",
       "    </tr>\n",
       "    <tr>\n",
       "      <th>2020-10-07</th>\n",
       "      <td>47.271187</td>\n",
       "      <td>317.677246</td>\n",
       "      <td>52.669998</td>\n",
       "      <td>340.760010</td>\n",
       "      <td>52.900002</td>\n",
       "      <td>341.630005</td>\n",
       "      <td>51.790001</td>\n",
       "      <td>338.089996</td>\n",
       "      <td>51.849998</td>\n",
       "      <td>338.119995</td>\n",
       "      <td>21978700</td>\n",
       "      <td>56999600</td>\n",
       "    </tr>\n",
       "  </tbody>\n",
       "</table>\n",
       "</div>"
      ],
      "text/plain": [
       "Price       Adj Close                  Close                   High  \\\n",
       "Ticker           INTC         SPY       INTC         SPY       INTC   \n",
       "Date                                                                  \n",
       "2020-10-01  46.885262  314.209167  52.240002  337.040009  52.720001   \n",
       "2020-10-02  45.781349  311.225983  51.009998  333.839996  51.980000   \n",
       "2020-10-05  46.391636  316.744904  51.689999  339.760010  51.810001   \n",
       "2020-10-06  46.104439  312.242096  51.369999  334.929993  52.700001   \n",
       "2020-10-07  47.271187  317.677246  52.669998  340.760010  52.900002   \n",
       "\n",
       "Price                         Low                   Open              \\\n",
       "Ticker             SPY       INTC         SPY       INTC         SPY   \n",
       "Date                                                                   \n",
       "2020-10-01  338.739990  51.990002  335.010010  52.400002  337.690002   \n",
       "2020-10-02  337.010010  50.990002  331.190002  51.500000  331.700012   \n",
       "2020-10-05  339.959991  51.270000  336.010010  51.299999  336.059998   \n",
       "2020-10-06  342.170013  51.230000  334.380005  51.709999  339.910004   \n",
       "2020-10-07  341.630005  51.790001  338.089996  51.849998  338.119995   \n",
       "\n",
       "Price         Volume            \n",
       "Ticker          INTC       SPY  \n",
       "Date                            \n",
       "2020-10-01  22127600  88698700  \n",
       "2020-10-02  25811800  89431100  \n",
       "2020-10-05  20883200  45713100  \n",
       "2020-10-06  25642800  90128900  \n",
       "2020-10-07  21978700  56999600  "
      ]
     },
     "execution_count": 17,
     "metadata": {},
     "output_type": "execute_result"
    }
   ],
   "source": [
    "df.head()"
   ]
  },
  {
   "cell_type": "code",
   "execution_count": 18,
   "id": "f7bf9022",
   "metadata": {},
   "outputs": [],
   "source": [
    "close_prices = df['Adj Close']"
   ]
  },
  {
   "cell_type": "code",
   "execution_count": 19,
   "id": "b0ad7a70",
   "metadata": {},
   "outputs": [
    {
     "data": {
      "text/html": [
       "<div>\n",
       "<style scoped>\n",
       "    .dataframe tbody tr th:only-of-type {\n",
       "        vertical-align: middle;\n",
       "    }\n",
       "\n",
       "    .dataframe tbody tr th {\n",
       "        vertical-align: top;\n",
       "    }\n",
       "\n",
       "    .dataframe thead th {\n",
       "        text-align: right;\n",
       "    }\n",
       "</style>\n",
       "<table border=\"1\" class=\"dataframe\">\n",
       "  <thead>\n",
       "    <tr style=\"text-align: right;\">\n",
       "      <th>Ticker</th>\n",
       "      <th>INTC</th>\n",
       "      <th>SPY</th>\n",
       "    </tr>\n",
       "    <tr>\n",
       "      <th>Date</th>\n",
       "      <th></th>\n",
       "      <th></th>\n",
       "    </tr>\n",
       "  </thead>\n",
       "  <tbody>\n",
       "    <tr>\n",
       "      <th>2020-10-01</th>\n",
       "      <td>46.885262</td>\n",
       "      <td>314.209167</td>\n",
       "    </tr>\n",
       "    <tr>\n",
       "      <th>2020-10-02</th>\n",
       "      <td>45.781349</td>\n",
       "      <td>311.225983</td>\n",
       "    </tr>\n",
       "    <tr>\n",
       "      <th>2020-10-05</th>\n",
       "      <td>46.391636</td>\n",
       "      <td>316.744904</td>\n",
       "    </tr>\n",
       "    <tr>\n",
       "      <th>2020-10-06</th>\n",
       "      <td>46.104439</td>\n",
       "      <td>312.242096</td>\n",
       "    </tr>\n",
       "    <tr>\n",
       "      <th>2020-10-07</th>\n",
       "      <td>47.271187</td>\n",
       "      <td>317.677246</td>\n",
       "    </tr>\n",
       "  </tbody>\n",
       "</table>\n",
       "</div>"
      ],
      "text/plain": [
       "Ticker           INTC         SPY\n",
       "Date                             \n",
       "2020-10-01  46.885262  314.209167\n",
       "2020-10-02  45.781349  311.225983\n",
       "2020-10-05  46.391636  316.744904\n",
       "2020-10-06  46.104439  312.242096\n",
       "2020-10-07  47.271187  317.677246"
      ]
     },
     "execution_count": 19,
     "metadata": {},
     "output_type": "execute_result"
    }
   ],
   "source": [
    "close_prices.head()"
   ]
  },
  {
   "cell_type": "code",
   "execution_count": 20,
   "id": "d2dfdc36",
   "metadata": {},
   "outputs": [],
   "source": [
    "output_folder = r'C:\\Projects\\Finance'"
   ]
  },
  {
   "cell_type": "code",
   "execution_count": 21,
   "id": "297be8a6",
   "metadata": {},
   "outputs": [],
   "source": [
    "output_file = os.path.join(output_folder, '3-estimate-sharpe.xlsx')\n",
    "close_prices.to_excel(output_file)"
   ]
  },
  {
   "cell_type": "code",
   "execution_count": null,
   "id": "2de3a2b5",
   "metadata": {},
   "outputs": [],
   "source": []
  }
 ],
 "metadata": {
  "kernelspec": {
   "display_name": "Python 3",
   "language": "python",
   "name": "python3"
  },
  "language_info": {
   "codemirror_mode": {
    "name": "ipython",
    "version": 3
   },
   "file_extension": ".py",
   "mimetype": "text/x-python",
   "name": "python",
   "nbconvert_exporter": "python",
   "pygments_lexer": "ipython3",
   "version": "3.13.7"
  }
 },
 "nbformat": 4,
 "nbformat_minor": 5
}
