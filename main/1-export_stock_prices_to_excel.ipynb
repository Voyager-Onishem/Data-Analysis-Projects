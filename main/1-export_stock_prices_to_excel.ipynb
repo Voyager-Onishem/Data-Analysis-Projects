{
 "cells": [
  {
   "cell_type": "code",
   "execution_count": 3,
   "id": "079897ef",
   "metadata": {},
   "outputs": [],
   "source": [
    "tickers = ['SPY','BND','GLD','QQQ','VTI']"
   ]
  },
  {
   "cell_type": "code",
   "execution_count": 18,
   "id": "86ffbf52",
   "metadata": {},
   "outputs": [],
   "source": [
    "import yfinance as yf\n",
    "import pandas as pd\n",
    "import numpy as np\n",
    "import datetime as dt\n",
    "from datetime import datetime, timedelta\n",
    "from pandas_datareader import data as pdr\n",
    "import os"
   ]
  },
  {
   "cell_type": "code",
   "execution_count": 8,
   "id": "9bbbbc77",
   "metadata": {},
   "outputs": [
    {
     "name": "stdout",
     "output_type": "stream",
     "text": [
      "2025-09-30 11:14:27.228431\n"
     ]
    }
   ],
   "source": [
    "end_date = datetime.today()\n",
    "print(end_date)"
   ]
  },
  {
   "cell_type": "code",
   "execution_count": 9,
   "id": "cb5000ec",
   "metadata": {},
   "outputs": [],
   "source": [
    "start_date = end_date - timedelta(2 * 365)"
   ]
  },
  {
   "cell_type": "code",
   "execution_count": 12,
   "id": "0d5fd191",
   "metadata": {},
   "outputs": [],
   "source": [
    "close_df = pd.DataFrame()  # Create an empty DataFrame instance"
   ]
  },
  {
   "cell_type": "code",
   "execution_count": 13,
   "id": "b77f39a0",
   "metadata": {},
   "outputs": [
    {
     "name": "stderr",
     "output_type": "stream",
     "text": [
      "[*********************100%***********************]  1 of 1 completed\n",
      "\n"
     ]
    },
    {
     "name": "stdout",
     "output_type": "stream",
     "text": [
      "Downloaded data for SPY\n"
     ]
    },
    {
     "name": "stderr",
     "output_type": "stream",
     "text": [
      "[*********************100%***********************]  1 of 1 completed\n",
      "\n"
     ]
    },
    {
     "name": "stdout",
     "output_type": "stream",
     "text": [
      "Downloaded data for BND\n"
     ]
    },
    {
     "name": "stderr",
     "output_type": "stream",
     "text": [
      "[*********************100%***********************]  1 of 1 completed\n",
      "\n"
     ]
    },
    {
     "name": "stdout",
     "output_type": "stream",
     "text": [
      "Downloaded data for GLD\n"
     ]
    },
    {
     "name": "stderr",
     "output_type": "stream",
     "text": [
      "[*********************100%***********************]  1 of 1 completed\n",
      "\n"
     ]
    },
    {
     "name": "stdout",
     "output_type": "stream",
     "text": [
      "Downloaded data for QQQ\n"
     ]
    },
    {
     "name": "stderr",
     "output_type": "stream",
     "text": [
      "[*********************100%***********************]  1 of 1 completed"
     ]
    },
    {
     "name": "stdout",
     "output_type": "stream",
     "text": [
      "Downloaded data for VTI\n",
      "\n",
      "DataFrame shape: (500, 5)\n"
     ]
    },
    {
     "name": "stderr",
     "output_type": "stream",
     "text": [
      "\n"
     ]
    },
    {
     "data": {
      "text/html": [
       "<div>\n",
       "<style scoped>\n",
       "    .dataframe tbody tr th:only-of-type {\n",
       "        vertical-align: middle;\n",
       "    }\n",
       "\n",
       "    .dataframe tbody tr th {\n",
       "        vertical-align: top;\n",
       "    }\n",
       "\n",
       "    .dataframe thead th {\n",
       "        text-align: right;\n",
       "    }\n",
       "</style>\n",
       "<table border=\"1\" class=\"dataframe\">\n",
       "  <thead>\n",
       "    <tr style=\"text-align: right;\">\n",
       "      <th></th>\n",
       "      <th>SPY</th>\n",
       "      <th>BND</th>\n",
       "      <th>GLD</th>\n",
       "      <th>QQQ</th>\n",
       "      <th>VTI</th>\n",
       "    </tr>\n",
       "    <tr>\n",
       "      <th>Date</th>\n",
       "      <th></th>\n",
       "      <th></th>\n",
       "      <th></th>\n",
       "      <th></th>\n",
       "      <th></th>\n",
       "    </tr>\n",
       "  </thead>\n",
       "  <tbody>\n",
       "    <tr>\n",
       "      <th>2023-10-02</th>\n",
       "      <td>427.309998</td>\n",
       "      <td>69.110001</td>\n",
       "      <td>169.649994</td>\n",
       "      <td>361.260010</td>\n",
       "      <td>212.130005</td>\n",
       "    </tr>\n",
       "    <tr>\n",
       "      <th>2023-10-03</th>\n",
       "      <td>421.589996</td>\n",
       "      <td>68.550003</td>\n",
       "      <td>169.160004</td>\n",
       "      <td>354.920013</td>\n",
       "      <td>209.050003</td>\n",
       "    </tr>\n",
       "    <tr>\n",
       "      <th>2023-10-04</th>\n",
       "      <td>424.660004</td>\n",
       "      <td>69.000000</td>\n",
       "      <td>169.139999</td>\n",
       "      <td>359.750000</td>\n",
       "      <td>210.559998</td>\n",
       "    </tr>\n",
       "    <tr>\n",
       "      <th>2023-10-05</th>\n",
       "      <td>424.500000</td>\n",
       "      <td>69.050003</td>\n",
       "      <td>168.830002</td>\n",
       "      <td>358.690002</td>\n",
       "      <td>210.449997</td>\n",
       "    </tr>\n",
       "    <tr>\n",
       "      <th>2023-10-06</th>\n",
       "      <td>429.540009</td>\n",
       "      <td>68.779999</td>\n",
       "      <td>169.699997</td>\n",
       "      <td>364.700012</td>\n",
       "      <td>212.960007</td>\n",
       "    </tr>\n",
       "  </tbody>\n",
       "</table>\n",
       "</div>"
      ],
      "text/plain": [
       "                   SPY        BND         GLD         QQQ         VTI\n",
       "Date                                                                 \n",
       "2023-10-02  427.309998  69.110001  169.649994  361.260010  212.130005\n",
       "2023-10-03  421.589996  68.550003  169.160004  354.920013  209.050003\n",
       "2023-10-04  424.660004  69.000000  169.139999  359.750000  210.559998\n",
       "2023-10-05  424.500000  69.050003  168.830002  358.690002  210.449997\n",
       "2023-10-06  429.540009  68.779999  169.699997  364.700012  212.960007"
      ]
     },
     "execution_count": 13,
     "metadata": {},
     "output_type": "execute_result"
    }
   ],
   "source": [
    "for ticker in tickers: \n",
    "    data = yf.download(ticker, start=start_date, end=end_date, auto_adjust=False)\n",
    "    close_df[ticker] = data['Close']\n",
    "    print(f\"Downloaded data for {ticker}\")\n",
    "\n",
    "print(f\"\\nDataFrame shape: {close_df.shape}\")\n",
    "close_df.head()"
   ]
  },
  {
   "cell_type": "code",
   "execution_count": 16,
   "id": "efef90fa",
   "metadata": {},
   "outputs": [],
   "source": [
    "output_folder = r'C:\\Projects\\Finance'"
   ]
  },
  {
   "cell_type": "code",
   "execution_count": 22,
   "id": "5ab71759",
   "metadata": {},
   "outputs": [],
   "source": [
    "output_file = os.path.join(output_folder, 'stock_prices.xlsx')\n",
    "close_df.to_excel(output_file)"
   ]
  },
  {
   "cell_type": "code",
   "execution_count": null,
   "id": "0a281d27",
   "metadata": {},
   "outputs": [],
   "source": []
  }
 ],
 "metadata": {
  "kernelspec": {
   "display_name": "Python 3",
   "language": "python",
   "name": "python3"
  },
  "language_info": {
   "codemirror_mode": {
    "name": "ipython",
    "version": 3
   },
   "file_extension": ".py",
   "mimetype": "text/x-python",
   "name": "python",
   "nbconvert_exporter": "python",
   "pygments_lexer": "ipython3",
   "version": "3.13.7"
  }
 },
 "nbformat": 4,
 "nbformat_minor": 5
}
