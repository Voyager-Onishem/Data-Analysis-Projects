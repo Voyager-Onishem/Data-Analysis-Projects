{
 "cells": [
  {
   "cell_type": "code",
   "execution_count": 10,
   "id": "cde62653",
   "metadata": {},
   "outputs": [],
   "source": [
    "import yfinance as yf\n",
    "import pandas as pd\n",
    "import numpy as np\n",
    "import datetime as dt\n",
    "from pandas_datareader import data as pdr\n",
    "import os"
   ]
  },
  {
   "cell_type": "code",
   "execution_count": 2,
   "id": "fdd1df01",
   "metadata": {},
   "outputs": [
    {
     "data": {
      "text/plain": [
       "(datetime.datetime(2025, 9, 30, 13, 22, 49, 271445),\n",
       " datetime.datetime(2020, 10, 1, 13, 22, 49, 271445))"
      ]
     },
     "execution_count": 2,
     "metadata": {},
     "output_type": "execute_result"
    }
   ],
   "source": [
    "endDate = dt.datetime.now()\n",
    "\n",
    "startDate = endDate - dt.timedelta(days = 365*5)\n",
    "endDate, startDate"
   ]
  },
  {
   "cell_type": "code",
   "execution_count": 3,
   "id": "acd4c761",
   "metadata": {},
   "outputs": [],
   "source": [
    "stocks = ['spy','intc']"
   ]
  },
  {
   "cell_type": "code",
   "execution_count": 4,
   "id": "251f74db",
   "metadata": {},
   "outputs": [
    {
     "name": "stderr",
     "output_type": "stream",
     "text": [
      "[*********************100%***********************]  2 of 2 completed\n"
     ]
    }
   ],
   "source": [
    "df = yf.download(stocks, start = startDate, end = endDate,auto_adjust=False)"
   ]
  },
  {
   "cell_type": "code",
   "execution_count": 12,
   "id": "be9a96a5",
   "metadata": {},
   "outputs": [
    {
     "data": {
      "text/html": [
       "<div>\n",
       "<style scoped>\n",
       "    .dataframe tbody tr th:only-of-type {\n",
       "        vertical-align: middle;\n",
       "    }\n",
       "\n",
       "    .dataframe tbody tr th {\n",
       "        vertical-align: top;\n",
       "    }\n",
       "\n",
       "    .dataframe thead tr th {\n",
       "        text-align: left;\n",
       "    }\n",
       "\n",
       "    .dataframe thead tr:last-of-type th {\n",
       "        text-align: right;\n",
       "    }\n",
       "</style>\n",
       "<table border=\"1\" class=\"dataframe\">\n",
       "  <thead>\n",
       "    <tr>\n",
       "      <th>Price</th>\n",
       "      <th colspan=\"2\" halign=\"left\">Adj Close</th>\n",
       "      <th colspan=\"2\" halign=\"left\">Close</th>\n",
       "      <th colspan=\"2\" halign=\"left\">High</th>\n",
       "      <th colspan=\"2\" halign=\"left\">Low</th>\n",
       "      <th colspan=\"2\" halign=\"left\">Open</th>\n",
       "      <th colspan=\"2\" halign=\"left\">Volume</th>\n",
       "    </tr>\n",
       "    <tr>\n",
       "      <th>Ticker</th>\n",
       "      <th>INTC</th>\n",
       "      <th>SPY</th>\n",
       "      <th>INTC</th>\n",
       "      <th>SPY</th>\n",
       "      <th>INTC</th>\n",
       "      <th>SPY</th>\n",
       "      <th>INTC</th>\n",
       "      <th>SPY</th>\n",
       "      <th>INTC</th>\n",
       "      <th>SPY</th>\n",
       "      <th>INTC</th>\n",
       "      <th>SPY</th>\n",
       "    </tr>\n",
       "    <tr>\n",
       "      <th>Date</th>\n",
       "      <th></th>\n",
       "      <th></th>\n",
       "      <th></th>\n",
       "      <th></th>\n",
       "      <th></th>\n",
       "      <th></th>\n",
       "      <th></th>\n",
       "      <th></th>\n",
       "      <th></th>\n",
       "      <th></th>\n",
       "      <th></th>\n",
       "      <th></th>\n",
       "    </tr>\n",
       "  </thead>\n",
       "  <tbody>\n",
       "    <tr>\n",
       "      <th>2025-09-23</th>\n",
       "      <td>29.340000</td>\n",
       "      <td>663.210022</td>\n",
       "      <td>29.340000</td>\n",
       "      <td>663.210022</td>\n",
       "      <td>30.200001</td>\n",
       "      <td>667.340027</td>\n",
       "      <td>28.820000</td>\n",
       "      <td>661.979980</td>\n",
       "      <td>28.990000</td>\n",
       "      <td>666.719971</td>\n",
       "      <td>126317900</td>\n",
       "      <td>81708900</td>\n",
       "    </tr>\n",
       "    <tr>\n",
       "      <th>2025-09-24</th>\n",
       "      <td>31.219999</td>\n",
       "      <td>661.099976</td>\n",
       "      <td>31.219999</td>\n",
       "      <td>661.099976</td>\n",
       "      <td>31.700001</td>\n",
       "      <td>664.609985</td>\n",
       "      <td>29.230000</td>\n",
       "      <td>659.669983</td>\n",
       "      <td>29.379999</td>\n",
       "      <td>664.510010</td>\n",
       "      <td>164458500</td>\n",
       "      <td>68082200</td>\n",
       "    </tr>\n",
       "    <tr>\n",
       "      <th>2025-09-25</th>\n",
       "      <td>33.990002</td>\n",
       "      <td>658.049988</td>\n",
       "      <td>33.990002</td>\n",
       "      <td>658.049988</td>\n",
       "      <td>34.250000</td>\n",
       "      <td>659.409973</td>\n",
       "      <td>31.209999</td>\n",
       "      <td>654.409973</td>\n",
       "      <td>31.610001</td>\n",
       "      <td>657.940002</td>\n",
       "      <td>295709300</td>\n",
       "      <td>89622100</td>\n",
       "    </tr>\n",
       "    <tr>\n",
       "      <th>2025-09-26</th>\n",
       "      <td>35.500000</td>\n",
       "      <td>661.820007</td>\n",
       "      <td>35.500000</td>\n",
       "      <td>661.820007</td>\n",
       "      <td>36.299999</td>\n",
       "      <td>662.369995</td>\n",
       "      <td>34.490002</td>\n",
       "      <td>657.880005</td>\n",
       "      <td>35.020000</td>\n",
       "      <td>659.510010</td>\n",
       "      <td>268583300</td>\n",
       "      <td>69179200</td>\n",
       "    </tr>\n",
       "    <tr>\n",
       "      <th>2025-09-29</th>\n",
       "      <td>34.480000</td>\n",
       "      <td>663.679993</td>\n",
       "      <td>34.480000</td>\n",
       "      <td>663.679993</td>\n",
       "      <td>35.049999</td>\n",
       "      <td>665.280029</td>\n",
       "      <td>33.730000</td>\n",
       "      <td>661.859985</td>\n",
       "      <td>34.520000</td>\n",
       "      <td>664.359985</td>\n",
       "      <td>151820500</td>\n",
       "      <td>73415500</td>\n",
       "    </tr>\n",
       "  </tbody>\n",
       "</table>\n",
       "</div>"
      ],
      "text/plain": [
       "Price       Adj Close                  Close                   High  \\\n",
       "Ticker           INTC         SPY       INTC         SPY       INTC   \n",
       "Date                                                                  \n",
       "2025-09-23  29.340000  663.210022  29.340000  663.210022  30.200001   \n",
       "2025-09-24  31.219999  661.099976  31.219999  661.099976  31.700001   \n",
       "2025-09-25  33.990002  658.049988  33.990002  658.049988  34.250000   \n",
       "2025-09-26  35.500000  661.820007  35.500000  661.820007  36.299999   \n",
       "2025-09-29  34.480000  663.679993  34.480000  663.679993  35.049999   \n",
       "\n",
       "Price                         Low                   Open              \\\n",
       "Ticker             SPY       INTC         SPY       INTC         SPY   \n",
       "Date                                                                   \n",
       "2025-09-23  667.340027  28.820000  661.979980  28.990000  666.719971   \n",
       "2025-09-24  664.609985  29.230000  659.669983  29.379999  664.510010   \n",
       "2025-09-25  659.409973  31.209999  654.409973  31.610001  657.940002   \n",
       "2025-09-26  662.369995  34.490002  657.880005  35.020000  659.510010   \n",
       "2025-09-29  665.280029  33.730000  661.859985  34.520000  664.359985   \n",
       "\n",
       "Price          Volume            \n",
       "Ticker           INTC       SPY  \n",
       "Date                             \n",
       "2025-09-23  126317900  81708900  \n",
       "2025-09-24  164458500  68082200  \n",
       "2025-09-25  295709300  89622100  \n",
       "2025-09-26  268583300  69179200  \n",
       "2025-09-29  151820500  73415500  "
      ]
     },
     "execution_count": 12,
     "metadata": {},
     "output_type": "execute_result"
    }
   ],
   "source": [
    "df.tail()"
   ]
  },
  {
   "cell_type": "code",
   "execution_count": 6,
   "id": "f7bf9022",
   "metadata": {},
   "outputs": [],
   "source": [
    "close_prices = df['Adj Close']"
   ]
  },
  {
   "cell_type": "code",
   "execution_count": 7,
   "id": "b0ad7a70",
   "metadata": {},
   "outputs": [
    {
     "data": {
      "text/html": [
       "<div>\n",
       "<style scoped>\n",
       "    .dataframe tbody tr th:only-of-type {\n",
       "        vertical-align: middle;\n",
       "    }\n",
       "\n",
       "    .dataframe tbody tr th {\n",
       "        vertical-align: top;\n",
       "    }\n",
       "\n",
       "    .dataframe thead th {\n",
       "        text-align: right;\n",
       "    }\n",
       "</style>\n",
       "<table border=\"1\" class=\"dataframe\">\n",
       "  <thead>\n",
       "    <tr style=\"text-align: right;\">\n",
       "      <th>Ticker</th>\n",
       "      <th>INTC</th>\n",
       "      <th>SPY</th>\n",
       "    </tr>\n",
       "    <tr>\n",
       "      <th>Date</th>\n",
       "      <th></th>\n",
       "      <th></th>\n",
       "    </tr>\n",
       "  </thead>\n",
       "  <tbody>\n",
       "    <tr>\n",
       "      <th>2020-10-01</th>\n",
       "      <td>46.885262</td>\n",
       "      <td>314.209198</td>\n",
       "    </tr>\n",
       "    <tr>\n",
       "      <th>2020-10-02</th>\n",
       "      <td>45.781338</td>\n",
       "      <td>311.225922</td>\n",
       "    </tr>\n",
       "    <tr>\n",
       "      <th>2020-10-05</th>\n",
       "      <td>46.391636</td>\n",
       "      <td>316.744873</td>\n",
       "    </tr>\n",
       "    <tr>\n",
       "      <th>2020-10-06</th>\n",
       "      <td>46.104435</td>\n",
       "      <td>312.242065</td>\n",
       "    </tr>\n",
       "    <tr>\n",
       "      <th>2020-10-07</th>\n",
       "      <td>47.271179</td>\n",
       "      <td>317.677185</td>\n",
       "    </tr>\n",
       "  </tbody>\n",
       "</table>\n",
       "</div>"
      ],
      "text/plain": [
       "Ticker           INTC         SPY\n",
       "Date                             \n",
       "2020-10-01  46.885262  314.209198\n",
       "2020-10-02  45.781338  311.225922\n",
       "2020-10-05  46.391636  316.744873\n",
       "2020-10-06  46.104435  312.242065\n",
       "2020-10-07  47.271179  317.677185"
      ]
     },
     "execution_count": 7,
     "metadata": {},
     "output_type": "execute_result"
    }
   ],
   "source": [
    "close_prices.head()"
   ]
  },
  {
   "cell_type": "code",
   "execution_count": 8,
   "id": "d2dfdc36",
   "metadata": {},
   "outputs": [],
   "source": [
    "output_folder = r'C:\\Projects\\Finance'"
   ]
  },
  {
   "cell_type": "code",
   "execution_count": 11,
   "id": "297be8a6",
   "metadata": {},
   "outputs": [],
   "source": [
    "output_file = os.path.join(output_folder, '2-beta_stock_prices.xlsx')\n",
    "close_prices.to_excel(output_file)"
   ]
  },
  {
   "cell_type": "code",
   "execution_count": null,
   "id": "2de3a2b5",
   "metadata": {},
   "outputs": [],
   "source": []
  }
 ],
 "metadata": {
  "kernelspec": {
   "display_name": "Python 3",
   "language": "python",
   "name": "python3"
  },
  "language_info": {
   "codemirror_mode": {
    "name": "ipython",
    "version": 3
   },
   "file_extension": ".py",
   "mimetype": "text/x-python",
   "name": "python",
   "nbconvert_exporter": "python",
   "pygments_lexer": "ipython3",
   "version": "3.13.7"
  }
 },
 "nbformat": 4,
 "nbformat_minor": 5
}
